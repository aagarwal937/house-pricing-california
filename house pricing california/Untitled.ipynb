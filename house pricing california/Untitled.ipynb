{
 "cells": [
  {
   "cell_type": "markdown",
   "metadata": {},
   "source": [
    "# VARIABLES THAT WILL INFULENCE THE RESIDENSIAL HOME PRICE IN THE UNITED STATES"
   ]
  },
  {
   "cell_type": "markdown",
   "metadata": {},
   "source": [
    "### 1. Neighborhood comps\n",
    "### 2. Location (Geographical factors)\n",
    "### 3. Home size and usable space\n",
    "### 4. Age and condition\n",
    "### 5. Upgrades and updates\n",
    "### 6. The local market\n",
    "### 7. Economic indicators\n",
    "### 8. Interest rates\n",
    "### 9. Consumer confidence\n",
    "### 10.Mortgage availability\n",
    "### 11. Supply "
   ]
  },
  {
   "cell_type": "markdown",
   "metadata": {},
   "source": [
    "# NOTE\n",
    "### Since I was Unable to get the dataset with the same names so I used the CALIFORNIA_HOUSING dataset for my project "
   ]
  },
  {
   "cell_type": "code",
   "execution_count": null,
   "metadata": {},
   "outputs": [],
   "source": []
  },
  {
   "cell_type": "code",
   "execution_count": 1,
   "metadata": {},
   "outputs": [],
   "source": [
    "import numpy as np\n",
    "import pandas as pd\n",
    "import matplotlib.pyplot as plt\n",
    "import seaborn as sns\n",
    "from sklearn.preprocessing import StandardScaler\n",
    "import time \n",
    "import warnings\n",
    "from sklearn.model_selection import train_test_split\n",
    "from sklearn import metrics\n",
    "from sklearn.metrics import accuracy_score\n",
    "from sklearn.metrics import classification_report,confusion_matrix\n",
    "%matplotlib inline"
   ]
  },
  {
   "cell_type": "code",
   "execution_count": 2,
   "metadata": {},
   "outputs": [],
   "source": [
    "df = pd.read_csv('/home/onionfrost/Desktop/house pricing california/california_housing_train.csv')"
   ]
  },
  {
   "cell_type": "code",
   "execution_count": 3,
   "metadata": {},
   "outputs": [
    {
     "data": {
      "text/html": [
       "<div>\n",
       "<style scoped>\n",
       "    .dataframe tbody tr th:only-of-type {\n",
       "        vertical-align: middle;\n",
       "    }\n",
       "\n",
       "    .dataframe tbody tr th {\n",
       "        vertical-align: top;\n",
       "    }\n",
       "\n",
       "    .dataframe thead th {\n",
       "        text-align: right;\n",
       "    }\n",
       "</style>\n",
       "<table border=\"1\" class=\"dataframe\">\n",
       "  <thead>\n",
       "    <tr style=\"text-align: right;\">\n",
       "      <th></th>\n",
       "      <th>longitude</th>\n",
       "      <th>latitude</th>\n",
       "      <th>housing_median_age</th>\n",
       "      <th>total_rooms</th>\n",
       "      <th>total_bedrooms</th>\n",
       "      <th>population</th>\n",
       "      <th>households</th>\n",
       "      <th>median_income</th>\n",
       "      <th>median_house_value</th>\n",
       "    </tr>\n",
       "  </thead>\n",
       "  <tbody>\n",
       "    <tr>\n",
       "      <th>0</th>\n",
       "      <td>-114.31</td>\n",
       "      <td>34.19</td>\n",
       "      <td>15.0</td>\n",
       "      <td>5612.0</td>\n",
       "      <td>1283.0</td>\n",
       "      <td>1015.0</td>\n",
       "      <td>472.0</td>\n",
       "      <td>1.4936</td>\n",
       "      <td>66900.0</td>\n",
       "    </tr>\n",
       "    <tr>\n",
       "      <th>1</th>\n",
       "      <td>-114.47</td>\n",
       "      <td>34.40</td>\n",
       "      <td>19.0</td>\n",
       "      <td>7650.0</td>\n",
       "      <td>1901.0</td>\n",
       "      <td>1129.0</td>\n",
       "      <td>463.0</td>\n",
       "      <td>1.8200</td>\n",
       "      <td>80100.0</td>\n",
       "    </tr>\n",
       "    <tr>\n",
       "      <th>2</th>\n",
       "      <td>-114.56</td>\n",
       "      <td>33.69</td>\n",
       "      <td>17.0</td>\n",
       "      <td>720.0</td>\n",
       "      <td>174.0</td>\n",
       "      <td>333.0</td>\n",
       "      <td>117.0</td>\n",
       "      <td>1.6509</td>\n",
       "      <td>85700.0</td>\n",
       "    </tr>\n",
       "    <tr>\n",
       "      <th>3</th>\n",
       "      <td>-114.57</td>\n",
       "      <td>33.64</td>\n",
       "      <td>14.0</td>\n",
       "      <td>1501.0</td>\n",
       "      <td>337.0</td>\n",
       "      <td>515.0</td>\n",
       "      <td>226.0</td>\n",
       "      <td>3.1917</td>\n",
       "      <td>73400.0</td>\n",
       "    </tr>\n",
       "    <tr>\n",
       "      <th>4</th>\n",
       "      <td>-114.57</td>\n",
       "      <td>33.57</td>\n",
       "      <td>20.0</td>\n",
       "      <td>1454.0</td>\n",
       "      <td>326.0</td>\n",
       "      <td>624.0</td>\n",
       "      <td>262.0</td>\n",
       "      <td>1.9250</td>\n",
       "      <td>65500.0</td>\n",
       "    </tr>\n",
       "  </tbody>\n",
       "</table>\n",
       "</div>"
      ],
      "text/plain": [
       "   longitude  latitude  housing_median_age  total_rooms  total_bedrooms  \\\n",
       "0    -114.31     34.19                15.0       5612.0          1283.0   \n",
       "1    -114.47     34.40                19.0       7650.0          1901.0   \n",
       "2    -114.56     33.69                17.0        720.0           174.0   \n",
       "3    -114.57     33.64                14.0       1501.0           337.0   \n",
       "4    -114.57     33.57                20.0       1454.0           326.0   \n",
       "\n",
       "   population  households  median_income  median_house_value  \n",
       "0      1015.0       472.0         1.4936             66900.0  \n",
       "1      1129.0       463.0         1.8200             80100.0  \n",
       "2       333.0       117.0         1.6509             85700.0  \n",
       "3       515.0       226.0         3.1917             73400.0  \n",
       "4       624.0       262.0         1.9250             65500.0  "
      ]
     },
     "execution_count": 3,
     "metadata": {},
     "output_type": "execute_result"
    }
   ],
   "source": [
    "df.head()"
   ]
  },
  {
   "cell_type": "code",
   "execution_count": 4,
   "metadata": {},
   "outputs": [
    {
     "data": {
      "text/html": [
       "<div>\n",
       "<style scoped>\n",
       "    .dataframe tbody tr th:only-of-type {\n",
       "        vertical-align: middle;\n",
       "    }\n",
       "\n",
       "    .dataframe tbody tr th {\n",
       "        vertical-align: top;\n",
       "    }\n",
       "\n",
       "    .dataframe thead th {\n",
       "        text-align: right;\n",
       "    }\n",
       "</style>\n",
       "<table border=\"1\" class=\"dataframe\">\n",
       "  <thead>\n",
       "    <tr style=\"text-align: right;\">\n",
       "      <th></th>\n",
       "      <th>longitude</th>\n",
       "      <th>latitude</th>\n",
       "      <th>housing_median_age</th>\n",
       "      <th>total_rooms</th>\n",
       "      <th>total_bedrooms</th>\n",
       "      <th>population</th>\n",
       "      <th>households</th>\n",
       "      <th>median_income</th>\n",
       "      <th>median_house_value</th>\n",
       "    </tr>\n",
       "  </thead>\n",
       "  <tbody>\n",
       "    <tr>\n",
       "      <th>count</th>\n",
       "      <td>17000.000000</td>\n",
       "      <td>17000.000000</td>\n",
       "      <td>17000.000000</td>\n",
       "      <td>17000.000000</td>\n",
       "      <td>17000.000000</td>\n",
       "      <td>17000.000000</td>\n",
       "      <td>17000.000000</td>\n",
       "      <td>17000.000000</td>\n",
       "      <td>17000.000000</td>\n",
       "    </tr>\n",
       "    <tr>\n",
       "      <th>mean</th>\n",
       "      <td>-119.562108</td>\n",
       "      <td>35.625225</td>\n",
       "      <td>28.589353</td>\n",
       "      <td>2643.664412</td>\n",
       "      <td>539.410824</td>\n",
       "      <td>1429.573941</td>\n",
       "      <td>501.221941</td>\n",
       "      <td>3.883578</td>\n",
       "      <td>207300.912353</td>\n",
       "    </tr>\n",
       "    <tr>\n",
       "      <th>std</th>\n",
       "      <td>2.005166</td>\n",
       "      <td>2.137340</td>\n",
       "      <td>12.586937</td>\n",
       "      <td>2179.947071</td>\n",
       "      <td>421.499452</td>\n",
       "      <td>1147.852959</td>\n",
       "      <td>384.520841</td>\n",
       "      <td>1.908157</td>\n",
       "      <td>115983.764387</td>\n",
       "    </tr>\n",
       "    <tr>\n",
       "      <th>min</th>\n",
       "      <td>-124.350000</td>\n",
       "      <td>32.540000</td>\n",
       "      <td>1.000000</td>\n",
       "      <td>2.000000</td>\n",
       "      <td>1.000000</td>\n",
       "      <td>3.000000</td>\n",
       "      <td>1.000000</td>\n",
       "      <td>0.499900</td>\n",
       "      <td>14999.000000</td>\n",
       "    </tr>\n",
       "    <tr>\n",
       "      <th>25%</th>\n",
       "      <td>-121.790000</td>\n",
       "      <td>33.930000</td>\n",
       "      <td>18.000000</td>\n",
       "      <td>1462.000000</td>\n",
       "      <td>297.000000</td>\n",
       "      <td>790.000000</td>\n",
       "      <td>282.000000</td>\n",
       "      <td>2.566375</td>\n",
       "      <td>119400.000000</td>\n",
       "    </tr>\n",
       "    <tr>\n",
       "      <th>50%</th>\n",
       "      <td>-118.490000</td>\n",
       "      <td>34.250000</td>\n",
       "      <td>29.000000</td>\n",
       "      <td>2127.000000</td>\n",
       "      <td>434.000000</td>\n",
       "      <td>1167.000000</td>\n",
       "      <td>409.000000</td>\n",
       "      <td>3.544600</td>\n",
       "      <td>180400.000000</td>\n",
       "    </tr>\n",
       "    <tr>\n",
       "      <th>75%</th>\n",
       "      <td>-118.000000</td>\n",
       "      <td>37.720000</td>\n",
       "      <td>37.000000</td>\n",
       "      <td>3151.250000</td>\n",
       "      <td>648.250000</td>\n",
       "      <td>1721.000000</td>\n",
       "      <td>605.250000</td>\n",
       "      <td>4.767000</td>\n",
       "      <td>265000.000000</td>\n",
       "    </tr>\n",
       "    <tr>\n",
       "      <th>max</th>\n",
       "      <td>-114.310000</td>\n",
       "      <td>41.950000</td>\n",
       "      <td>52.000000</td>\n",
       "      <td>37937.000000</td>\n",
       "      <td>6445.000000</td>\n",
       "      <td>35682.000000</td>\n",
       "      <td>6082.000000</td>\n",
       "      <td>15.000100</td>\n",
       "      <td>500001.000000</td>\n",
       "    </tr>\n",
       "  </tbody>\n",
       "</table>\n",
       "</div>"
      ],
      "text/plain": [
       "          longitude      latitude  housing_median_age   total_rooms  \\\n",
       "count  17000.000000  17000.000000        17000.000000  17000.000000   \n",
       "mean    -119.562108     35.625225           28.589353   2643.664412   \n",
       "std        2.005166      2.137340           12.586937   2179.947071   \n",
       "min     -124.350000     32.540000            1.000000      2.000000   \n",
       "25%     -121.790000     33.930000           18.000000   1462.000000   \n",
       "50%     -118.490000     34.250000           29.000000   2127.000000   \n",
       "75%     -118.000000     37.720000           37.000000   3151.250000   \n",
       "max     -114.310000     41.950000           52.000000  37937.000000   \n",
       "\n",
       "       total_bedrooms    population    households  median_income  \\\n",
       "count    17000.000000  17000.000000  17000.000000   17000.000000   \n",
       "mean       539.410824   1429.573941    501.221941       3.883578   \n",
       "std        421.499452   1147.852959    384.520841       1.908157   \n",
       "min          1.000000      3.000000      1.000000       0.499900   \n",
       "25%        297.000000    790.000000    282.000000       2.566375   \n",
       "50%        434.000000   1167.000000    409.000000       3.544600   \n",
       "75%        648.250000   1721.000000    605.250000       4.767000   \n",
       "max       6445.000000  35682.000000   6082.000000      15.000100   \n",
       "\n",
       "       median_house_value  \n",
       "count        17000.000000  \n",
       "mean        207300.912353  \n",
       "std         115983.764387  \n",
       "min          14999.000000  \n",
       "25%         119400.000000  \n",
       "50%         180400.000000  \n",
       "75%         265000.000000  \n",
       "max         500001.000000  "
      ]
     },
     "execution_count": 4,
     "metadata": {},
     "output_type": "execute_result"
    }
   ],
   "source": [
    "df.describe()"
   ]
  },
  {
   "cell_type": "code",
   "execution_count": 5,
   "metadata": {},
   "outputs": [
    {
     "data": {
      "text/plain": [
       "longitude             0\n",
       "latitude              0\n",
       "housing_median_age    0\n",
       "total_rooms           0\n",
       "total_bedrooms        0\n",
       "population            0\n",
       "households            0\n",
       "median_income         0\n",
       "median_house_value    0\n",
       "dtype: int64"
      ]
     },
     "execution_count": 5,
     "metadata": {},
     "output_type": "execute_result"
    }
   ],
   "source": [
    "df.isnull().sum()"
   ]
  },
  {
   "cell_type": "code",
   "execution_count": 6,
   "metadata": {},
   "outputs": [
    {
     "name": "stdout",
     "output_type": "stream",
     "text": [
      "<class 'pandas.core.frame.DataFrame'>\n",
      "RangeIndex: 17000 entries, 0 to 16999\n",
      "Data columns (total 9 columns):\n",
      " #   Column              Non-Null Count  Dtype  \n",
      "---  ------              --------------  -----  \n",
      " 0   longitude           17000 non-null  float64\n",
      " 1   latitude            17000 non-null  float64\n",
      " 2   housing_median_age  17000 non-null  float64\n",
      " 3   total_rooms         17000 non-null  float64\n",
      " 4   total_bedrooms      17000 non-null  float64\n",
      " 5   population          17000 non-null  float64\n",
      " 6   households          17000 non-null  float64\n",
      " 7   median_income       17000 non-null  float64\n",
      " 8   median_house_value  17000 non-null  float64\n",
      "dtypes: float64(9)\n",
      "memory usage: 1.2 MB\n"
     ]
    }
   ],
   "source": [
    "df.info()"
   ]
  },
  {
   "cell_type": "code",
   "execution_count": 7,
   "metadata": {},
   "outputs": [
    {
     "name": "stderr",
     "output_type": "stream",
     "text": [
      "/home/onionfrost/.local/lib/python3.8/site-packages/seaborn/distributions.py:2551: FutureWarning: `distplot` is a deprecated function and will be removed in a future version. Please adapt your code to use either `displot` (a figure-level function with similar flexibility) or `histplot` (an axes-level function for histograms).\n",
      "  warnings.warn(msg, FutureWarning)\n"
     ]
    },
    {
     "data": {
      "image/png": "[encoded data removed]",
      "text/plain": [
       "<Figure size 432x288 with 1 Axes>"
      ]
     },
     "metadata": {
      "needs_background": "light"
     },
     "output_type": "display_data"
    }
   ],
   "source": [
    "sns.distplot(df['median_house_value'])\n",
    "plt.show()"
   ]
  },
  {
   "cell_type": "code",
   "execution_count": 8,
   "metadata": {
    "scrolled": true
   },
   "outputs": [
    {
     "data": {
      "text/plain": [
       "<matplotlib.collections.PathCollection at 0x7f30f4692310>"
      ]
     },
     "execution_count": 8,
     "metadata": {},
     "output_type": "execute_result"
    },
    {
     "data": {
      "image/png": "[encoded data removed]",
      "text/plain": [
       "<Figure size 432x288 with 1 Axes>"
      ]
     },
     "metadata": {
      "needs_background": "light"
     },
     "output_type": "display_data"
    }
   ],
   "source": [
    "plt.scatter(df.index, df['median_house_value'])"
   ]
  },
  {
   "cell_type": "code",
   "execution_count": 9,
   "metadata": {},
   "outputs": [
    {
     "data": {
      "image/png": "[encoded data removed]",
      "text/plain": [
       "<Figure size 1440x1080 with 9 Axes>"
      ]
     },
     "metadata": {
      "needs_background": "light"
     },
     "output_type": "display_data"
    }
   ],
   "source": [
    "df.hist(bins=50, figsize=(20,15))\n",
    "plt.show()"
   ]
  },
  {
   "cell_type": "code",
   "execution_count": 10,
   "metadata": {},
   "outputs": [
    {
     "data": {
      "image/png": "[encoded data removed]",
      "text/plain": [
       "<Figure size 720x720 with 2 Axes>"
      ]
     },
     "metadata": {
      "needs_background": "light"
     },
     "output_type": "display_data"
    }
   ],
   "source": [
    "plt.figure(figsize=(10,10))\n",
    "sns.heatmap(df.corr() , cmap=\"YlGnBu\", annot=True)\n",
    "plt.show()"
   ]
  },
  {
   "cell_type": "markdown",
   "metadata": {},
   "source": [
    "# Applying Linear Regression"
   ]
  },
  {
   "cell_type": "code",
   "execution_count": 11,
   "metadata": {},
   "outputs": [],
   "source": [
    "X = df.drop(['median_house_value'], axis=1)\n",
    "y = df['median_house_value']"
   ]
  },
  {
   "cell_type": "code",
   "execution_count": 12,
   "metadata": {},
   "outputs": [],
   "source": [
    "from sklearn.model_selection import train_test_split\n",
    "X_train, X_test, y_train, y_test = train_test_split(X, y, test_size=0.4, random_state=0) "
   ]
  },
  {
   "cell_type": "code",
   "execution_count": 13,
   "metadata": {},
   "outputs": [],
   "source": [
    "from sklearn import linear_model\n",
    "from sklearn.linear_model import LinearRegression\n",
    "from sklearn.linear_model import Ridge\n",
    "from sklearn.linear_model import Lasso\n",
    "from sklearn.model_selection import GridSearchCV\n",
    "from sklearn.preprocessing import scale\n",
    "from sklearn.model_selection import train_test_split\n",
    "from sklearn.metrics import r2_score"
   ]
  },
  {
   "cell_type": "code",
   "execution_count": 14,
   "metadata": {},
   "outputs": [
    {
     "data": {
      "text/plain": [
       "LinearRegression()"
      ]
     },
     "execution_count": 14,
     "metadata": {},
     "output_type": "execute_result"
    }
   ],
   "source": [
    "lr=LinearRegression()\n",
    "lr.fit(X_train,y_train)"
   ]
  },
  {
   "cell_type": "code",
   "execution_count": 15,
   "metadata": {},
   "outputs": [
    {
     "data": {
      "text/plain": [
       "array([-4.28227975e+04, -4.25694322e+04,  1.19488501e+03, -8.61182985e+00,\n",
       "        1.17050505e+02, -3.54496316e+01,  4.21943550e+01,  4.07532650e+04])"
      ]
     },
     "execution_count": 15,
     "metadata": {},
     "output_type": "execute_result"
    }
   ],
   "source": [
    "lr.coef_"
   ]
  },
  {
   "cell_type": "code",
   "execution_count": 16,
   "metadata": {},
   "outputs": [
    {
     "data": {
      "text/html": [
       "<div>\n",
       "<style scoped>\n",
       "    .dataframe tbody tr th:only-of-type {\n",
       "        vertical-align: middle;\n",
       "    }\n",
       "\n",
       "    .dataframe tbody tr th {\n",
       "        vertical-align: top;\n",
       "    }\n",
       "\n",
       "    .dataframe thead th {\n",
       "        text-align: right;\n",
       "    }\n",
       "</style>\n",
       "<table border=\"1\" class=\"dataframe\">\n",
       "  <thead>\n",
       "    <tr style=\"text-align: right;\">\n",
       "      <th></th>\n",
       "      <th>Coefficient</th>\n",
       "    </tr>\n",
       "  </thead>\n",
       "  <tbody>\n",
       "    <tr>\n",
       "      <th>longitude</th>\n",
       "      <td>-42822.797475</td>\n",
       "    </tr>\n",
       "    <tr>\n",
       "      <th>latitude</th>\n",
       "      <td>-42569.432175</td>\n",
       "    </tr>\n",
       "    <tr>\n",
       "      <th>housing_median_age</th>\n",
       "      <td>1194.885010</td>\n",
       "    </tr>\n",
       "    <tr>\n",
       "      <th>total_rooms</th>\n",
       "      <td>-8.611830</td>\n",
       "    </tr>\n",
       "    <tr>\n",
       "      <th>total_bedrooms</th>\n",
       "      <td>117.050505</td>\n",
       "    </tr>\n",
       "    <tr>\n",
       "      <th>population</th>\n",
       "      <td>-35.449632</td>\n",
       "    </tr>\n",
       "    <tr>\n",
       "      <th>households</th>\n",
       "      <td>42.194355</td>\n",
       "    </tr>\n",
       "    <tr>\n",
       "      <th>median_income</th>\n",
       "      <td>40753.265034</td>\n",
       "    </tr>\n",
       "  </tbody>\n",
       "</table>\n",
       "</div>"
      ],
      "text/plain": [
       "                     Coefficient\n",
       "longitude          -42822.797475\n",
       "latitude           -42569.432175\n",
       "housing_median_age   1194.885010\n",
       "total_rooms            -8.611830\n",
       "total_bedrooms        117.050505\n",
       "population            -35.449632\n",
       "households             42.194355\n",
       "median_income       40753.265034"
      ]
     },
     "execution_count": 16,
     "metadata": {},
     "output_type": "execute_result"
    }
   ],
   "source": [
    "coeff_df = pd.DataFrame(lr.coef_,X.columns,columns=['Coefficient'])\n",
    "coeff_df"
   ]
  },
  {
   "cell_type": "code",
   "execution_count": 17,
   "metadata": {},
   "outputs": [
    {
     "data": {
      "text/plain": [
       "-3599318.296760632"
      ]
     },
     "execution_count": 17,
     "metadata": {},
     "output_type": "execute_result"
    }
   ],
   "source": [
    "lr.intercept_"
   ]
  },
  {
   "cell_type": "code",
   "execution_count": 18,
   "metadata": {},
   "outputs": [
    {
     "data": {
      "text/plain": [
       "array([210398.86432521, 218489.79875463, 466837.42862007, ...,\n",
       "       165451.81183772, 210976.15914391, 260640.60388325])"
      ]
     },
     "execution_count": 18,
     "metadata": {},
     "output_type": "execute_result"
    }
   ],
   "source": [
    "from sklearn.metrics import mean_squared_error, mean_absolute_error\n",
    "pred=lr.predict(X_test)\n",
    "pred"
   ]
  },
  {
   "cell_type": "code",
   "execution_count": 19,
   "metadata": {
    "scrolled": true
   },
   "outputs": [
    {
     "name": "stdout",
     "output_type": "stream",
     "text": [
      "MAE: 50808.94747845923\n",
      "MSE: 4802176230.0180235\n",
      "RMSE: 69297.73611033786\n"
     ]
    },
    {
     "data": {
      "image/png": "[encoded data removed]",
      "text/plain": [
       "<Figure size 432x288 with 1 Axes>"
      ]
     },
     "metadata": {
      "needs_background": "light"
     },
     "output_type": "display_data"
    }
   ],
   "source": [
    "plt.scatter(y_test,pred)\n",
    "from sklearn import metrics\n",
    "print('MAE:', metrics.mean_absolute_error(y_test, pred))\n",
    "print('MSE:', metrics.mean_squared_error(y_test, pred))\n",
    "print('RMSE:', np.sqrt(metrics.mean_squared_error(y_test, pred)))"
   ]
  },
  {
   "cell_type": "code",
   "execution_count": 20,
   "metadata": {},
   "outputs": [
    {
     "data": {
      "text/plain": [
       "0.6372922605975015"
      ]
     },
     "execution_count": 20,
     "metadata": {},
     "output_type": "execute_result"
    }
   ],
   "source": [
    "r2_score_lr = r2_score(y_test, pred)\n",
    "r2_score_lr"
   ]
  },
  {
   "cell_type": "markdown",
   "metadata": {},
   "source": [
    "# Finding the Best Parameter Using GridSearchCV"
   ]
  },
  {
   "cell_type": "markdown",
   "metadata": {},
   "source": [
    "### RIDGE REGRESSION"
   ]
  },
  {
   "cell_type": "code",
   "execution_count": 21,
   "metadata": {},
   "outputs": [
    {
     "name": "stdout",
     "output_type": "stream",
     "text": [
      "Fitting 10 folds for each of 100 candidates, totalling 1000 fits\n"
     ]
    },
    {
     "name": "stderr",
     "output_type": "stream",
     "text": [
      "[Parallel(n_jobs=1)]: Using backend SequentialBackend with 1 concurrent workers.\n"
     ]
    },
    {
     "name": "stdout",
     "output_type": "stream",
     "text": [
      "CPU times: user 15.5 s, sys: 51.3 s, total: 1min 6s\n",
      "Wall time: 5.68 s\n"
     ]
    },
    {
     "name": "stderr",
     "output_type": "stream",
     "text": [
      "[Parallel(n_jobs=1)]: Done 1000 out of 1000 | elapsed:    5.7s finished\n"
     ]
    },
    {
     "data": {
      "text/plain": [
       "GridSearchCV(cv=10, estimator=Ridge(),\n",
       "             param_grid={'alpha': array([5.00000000e+09, 3.78231664e+09, 2.86118383e+09, 2.16438064e+09,\n",
       "       1.63727458e+09, 1.23853818e+09, 9.36908711e+08, 7.08737081e+08,\n",
       "       5.36133611e+08, 4.05565415e+08, 3.06795364e+08, 2.32079442e+08,\n",
       "       1.75559587e+08, 1.32804389e+08, 1.00461650e+08, 7.59955541e+07,\n",
       "       5.74878498e+07, 4.34874501e+07, 3.28966612e+07, 2...\n",
       "       1.00461650e+00, 7.59955541e-01, 5.74878498e-01, 4.34874501e-01,\n",
       "       3.28966612e-01, 2.48851178e-01, 1.88246790e-01, 1.42401793e-01,\n",
       "       1.07721735e-01, 8.14875417e-02, 6.16423370e-02, 4.66301673e-02,\n",
       "       3.52740116e-02, 2.66834962e-02, 2.01850863e-02, 1.52692775e-02,\n",
       "       1.15506485e-02, 8.73764200e-03, 6.60970574e-03, 5.00000000e-03])},\n",
       "             return_train_score=True, scoring='neg_mean_absolute_error',\n",
       "             verbose=1)"
      ]
     },
     "execution_count": 21,
     "metadata": {},
     "output_type": "execute_result"
    }
   ],
   "source": [
    "%%time\n",
    "# Specify the list of alpha hyperparameters.\n",
    "alphas = 10**np.linspace(10,-2,100)*0.5\n",
    "params = {'alpha': alphas}\n",
    "\n",
    "# Ridge Regression\n",
    "ridge = Ridge()\n",
    "\n",
    "# Set up GridSearchCV() function with the range of hyperparameters.\n",
    "# Create a KFold object with 10 splits.\n",
    "folds = 10\n",
    "model_cv = GridSearchCV(estimator = ridge, \n",
    "                        param_grid = params, \n",
    "                        scoring= 'neg_mean_absolute_error', \n",
    "                        cv = folds, \n",
    "                        return_train_score=True,\n",
    "                        verbose = 1)            \n",
    "model_cv.fit(X_train, y_train) "
   ]
  },
  {
   "cell_type": "code",
   "execution_count": 22,
   "metadata": {},
   "outputs": [
    {
     "data": {
      "text/html": [
       "<div>\n",
       "<style scoped>\n",
       "    .dataframe tbody tr th:only-of-type {\n",
       "        vertical-align: middle;\n",
       "    }\n",
       "\n",
       "    .dataframe tbody tr th {\n",
       "        vertical-align: top;\n",
       "    }\n",
       "\n",
       "    .dataframe thead th {\n",
       "        text-align: right;\n",
       "    }\n",
       "</style>\n",
       "<table border=\"1\" class=\"dataframe\">\n",
       "  <thead>\n",
       "    <tr style=\"text-align: right;\">\n",
       "      <th></th>\n",
       "      <th>mean_fit_time</th>\n",
       "      <th>std_fit_time</th>\n",
       "      <th>mean_score_time</th>\n",
       "      <th>std_score_time</th>\n",
       "      <th>param_alpha</th>\n",
       "      <th>params</th>\n",
       "      <th>split0_test_score</th>\n",
       "      <th>split1_test_score</th>\n",
       "      <th>split2_test_score</th>\n",
       "      <th>split3_test_score</th>\n",
       "      <th>...</th>\n",
       "      <th>split2_train_score</th>\n",
       "      <th>split3_train_score</th>\n",
       "      <th>split4_train_score</th>\n",
       "      <th>split5_train_score</th>\n",
       "      <th>split6_train_score</th>\n",
       "      <th>split7_train_score</th>\n",
       "      <th>split8_train_score</th>\n",
       "      <th>split9_train_score</th>\n",
       "      <th>mean_train_score</th>\n",
       "      <th>std_train_score</th>\n",
       "    </tr>\n",
       "  </thead>\n",
       "  <tbody>\n",
       "    <tr>\n",
       "      <th>62</th>\n",
       "      <td>0.002473</td>\n",
       "      <td>0.000057</td>\n",
       "      <td>0.001298</td>\n",
       "      <td>0.000048</td>\n",
       "      <td>152.693</td>\n",
       "      <td>{'alpha': 152.69277544167062}</td>\n",
       "      <td>-50033.355916</td>\n",
       "      <td>-51305.810388</td>\n",
       "      <td>-49612.718949</td>\n",
       "      <td>-50062.627677</td>\n",
       "      <td>...</td>\n",
       "      <td>-50958.625019</td>\n",
       "      <td>-50956.243680</td>\n",
       "      <td>-50815.151314</td>\n",
       "      <td>-50804.126998</td>\n",
       "      <td>-50647.071634</td>\n",
       "      <td>-50825.728118</td>\n",
       "      <td>-50771.137271</td>\n",
       "      <td>-50882.019328</td>\n",
       "      <td>-50844.084924</td>\n",
       "      <td>115.779535</td>\n",
       "    </tr>\n",
       "    <tr>\n",
       "      <th>63</th>\n",
       "      <td>0.002463</td>\n",
       "      <td>0.000041</td>\n",
       "      <td>0.001287</td>\n",
       "      <td>0.000017</td>\n",
       "      <td>115.506</td>\n",
       "      <td>{'alpha': 115.5064850041579}</td>\n",
       "      <td>-50034.643087</td>\n",
       "      <td>-51284.742412</td>\n",
       "      <td>-49606.321425</td>\n",
       "      <td>-50080.301349</td>\n",
       "      <td>...</td>\n",
       "      <td>-50958.857703</td>\n",
       "      <td>-50955.635091</td>\n",
       "      <td>-50815.834353</td>\n",
       "      <td>-50802.876430</td>\n",
       "      <td>-50646.049072</td>\n",
       "      <td>-50825.211463</td>\n",
       "      <td>-50772.808323</td>\n",
       "      <td>-50881.656568</td>\n",
       "      <td>-50843.884778</td>\n",
       "      <td>115.897504</td>\n",
       "    </tr>\n",
       "    <tr>\n",
       "      <th>64</th>\n",
       "      <td>0.002484</td>\n",
       "      <td>0.000069</td>\n",
       "      <td>0.001291</td>\n",
       "      <td>0.000017</td>\n",
       "      <td>87.3764</td>\n",
       "      <td>{'alpha': 87.37642000038414}</td>\n",
       "      <td>-50038.199033</td>\n",
       "      <td>-51268.852006</td>\n",
       "      <td>-49603.002277</td>\n",
       "      <td>-50095.262546</td>\n",
       "      <td>...</td>\n",
       "      <td>-50960.866905</td>\n",
       "      <td>-50957.115027</td>\n",
       "      <td>-50817.961919</td>\n",
       "      <td>-50803.534867</td>\n",
       "      <td>-50647.349267</td>\n",
       "      <td>-50826.850448</td>\n",
       "      <td>-50776.023774</td>\n",
       "      <td>-50883.173318</td>\n",
       "      <td>-50845.585403</td>\n",
       "      <td>115.992219</td>\n",
       "    </tr>\n",
       "    <tr>\n",
       "      <th>65</th>\n",
       "      <td>0.002479</td>\n",
       "      <td>0.000035</td>\n",
       "      <td>0.001295</td>\n",
       "      <td>0.000033</td>\n",
       "      <td>66.0971</td>\n",
       "      <td>{'alpha': 66.09705742330144}</td>\n",
       "      <td>-50041.349285</td>\n",
       "      <td>-51257.197571</td>\n",
       "      <td>-49600.712388</td>\n",
       "      <td>-50107.453571</td>\n",
       "      <td>...</td>\n",
       "      <td>-50963.425125</td>\n",
       "      <td>-50959.244516</td>\n",
       "      <td>-50820.236632</td>\n",
       "      <td>-50804.950826</td>\n",
       "      <td>-50649.377330</td>\n",
       "      <td>-50829.165443</td>\n",
       "      <td>-50779.381228</td>\n",
       "      <td>-50885.181676</td>\n",
       "      <td>-50847.854397</td>\n",
       "      <td>116.051317</td>\n",
       "    </tr>\n",
       "    <tr>\n",
       "      <th>66</th>\n",
       "      <td>0.002456</td>\n",
       "      <td>0.000029</td>\n",
       "      <td>0.001296</td>\n",
       "      <td>0.000031</td>\n",
       "      <td>50</td>\n",
       "      <td>{'alpha': 50.0}</td>\n",
       "      <td>-50044.009019</td>\n",
       "      <td>-51249.683924</td>\n",
       "      <td>-49599.921213</td>\n",
       "      <td>-50117.316287</td>\n",
       "      <td>...</td>\n",
       "      <td>-50965.852548</td>\n",
       "      <td>-50961.391220</td>\n",
       "      <td>-50822.584652</td>\n",
       "      <td>-50806.585097</td>\n",
       "      <td>-50651.362552</td>\n",
       "      <td>-50831.468299</td>\n",
       "      <td>-50782.619507</td>\n",
       "      <td>-50887.224281</td>\n",
       "      <td>-50850.134085</td>\n",
       "      <td>116.071868</td>\n",
       "    </tr>\n",
       "    <tr>\n",
       "      <th>67</th>\n",
       "      <td>0.002518</td>\n",
       "      <td>0.000108</td>\n",
       "      <td>0.001304</td>\n",
       "      <td>0.000077</td>\n",
       "      <td>37.8232</td>\n",
       "      <td>{'alpha': 37.823166377731454}</td>\n",
       "      <td>-50046.465489</td>\n",
       "      <td>-51244.143026</td>\n",
       "      <td>-49599.535918</td>\n",
       "      <td>-50124.878040</td>\n",
       "      <td>...</td>\n",
       "      <td>-50968.076598</td>\n",
       "      <td>-50963.320884</td>\n",
       "      <td>-50824.759825</td>\n",
       "      <td>-50808.107084</td>\n",
       "      <td>-50653.153213</td>\n",
       "      <td>-50833.587156</td>\n",
       "      <td>-50785.519647</td>\n",
       "      <td>-50889.023286</td>\n",
       "      <td>-50852.194861</td>\n",
       "      <td>116.070874</td>\n",
       "    </tr>\n",
       "    <tr>\n",
       "      <th>68</th>\n",
       "      <td>0.002516</td>\n",
       "      <td>0.000062</td>\n",
       "      <td>0.001312</td>\n",
       "      <td>0.000045</td>\n",
       "      <td>28.6118</td>\n",
       "      <td>{'alpha': 28.611838296751102}</td>\n",
       "      <td>-50048.715188</td>\n",
       "      <td>-51240.351595</td>\n",
       "      <td>-49599.258844</td>\n",
       "      <td>-50130.656964</td>\n",
       "      <td>...</td>\n",
       "      <td>-50970.044915</td>\n",
       "      <td>-50964.985098</td>\n",
       "      <td>-50826.686717</td>\n",
       "      <td>-50809.390908</td>\n",
       "      <td>-50654.714636</td>\n",
       "      <td>-50835.337256</td>\n",
       "      <td>-50787.918287</td>\n",
       "      <td>-50890.508972</td>\n",
       "      <td>-50853.945436</td>\n",
       "      <td>116.070378</td>\n",
       "    </tr>\n",
       "    <tr>\n",
       "      <th>69</th>\n",
       "      <td>0.002480</td>\n",
       "      <td>0.000039</td>\n",
       "      <td>0.001334</td>\n",
       "      <td>0.000060</td>\n",
       "      <td>21.6438</td>\n",
       "      <td>{'alpha': 21.643806405415308}</td>\n",
       "      <td>-50050.464454</td>\n",
       "      <td>-51237.683288</td>\n",
       "      <td>-49599.318953</td>\n",
       "      <td>-50135.062539</td>\n",
       "      <td>...</td>\n",
       "      <td>-50971.683447</td>\n",
       "      <td>-50966.366690</td>\n",
       "      <td>-50828.253067</td>\n",
       "      <td>-50810.498745</td>\n",
       "      <td>-50655.925623</td>\n",
       "      <td>-50836.735570</td>\n",
       "      <td>-50789.786894</td>\n",
       "      <td>-50891.741645</td>\n",
       "      <td>-50855.362716</td>\n",
       "      <td>116.081317</td>\n",
       "    </tr>\n",
       "    <tr>\n",
       "      <th>70</th>\n",
       "      <td>0.002485</td>\n",
       "      <td>0.000051</td>\n",
       "      <td>0.001301</td>\n",
       "      <td>0.000040</td>\n",
       "      <td>16.3727</td>\n",
       "      <td>{'alpha': 16.372745814388658}</td>\n",
       "      <td>-50051.829916</td>\n",
       "      <td>-51235.655809</td>\n",
       "      <td>-49599.584928</td>\n",
       "      <td>-50138.414854</td>\n",
       "      <td>...</td>\n",
       "      <td>-50972.974801</td>\n",
       "      <td>-50967.444856</td>\n",
       "      <td>-50829.505240</td>\n",
       "      <td>-50811.380163</td>\n",
       "      <td>-50656.893314</td>\n",
       "      <td>-50837.861264</td>\n",
       "      <td>-50791.218407</td>\n",
       "      <td>-50892.736602</td>\n",
       "      <td>-50856.486003</td>\n",
       "      <td>116.091362</td>\n",
       "    </tr>\n",
       "    <tr>\n",
       "      <th>71</th>\n",
       "      <td>0.002492</td>\n",
       "      <td>0.000048</td>\n",
       "      <td>0.001301</td>\n",
       "      <td>0.000053</td>\n",
       "      <td>12.3854</td>\n",
       "      <td>{'alpha': 12.38538177995857}</td>\n",
       "      <td>-50052.870149</td>\n",
       "      <td>-51234.127327</td>\n",
       "      <td>-49599.790244</td>\n",
       "      <td>-50140.962088</td>\n",
       "      <td>...</td>\n",
       "      <td>-50974.008952</td>\n",
       "      <td>-50968.292081</td>\n",
       "      <td>-50830.490591</td>\n",
       "      <td>-50812.084475</td>\n",
       "      <td>-50657.653610</td>\n",
       "      <td>-50838.763256</td>\n",
       "      <td>-50792.350386</td>\n",
       "      <td>-50893.530086</td>\n",
       "      <td>-50857.375144</td>\n",
       "      <td>116.105726</td>\n",
       "    </tr>\n",
       "  </tbody>\n",
       "</table>\n",
       "<p>10 rows × 31 columns</p>\n",
       "</div>"
      ],
      "text/plain": [
       "    mean_fit_time  std_fit_time  mean_score_time  std_score_time param_alpha  \\\n",
       "62       0.002473      0.000057         0.001298        0.000048     152.693   \n",
       "63       0.002463      0.000041         0.001287        0.000017     115.506   \n",
       "64       0.002484      0.000069         0.001291        0.000017     87.3764   \n",
       "65       0.002479      0.000035         0.001295        0.000033     66.0971   \n",
       "66       0.002456      0.000029         0.001296        0.000031          50   \n",
       "67       0.002518      0.000108         0.001304        0.000077     37.8232   \n",
       "68       0.002516      0.000062         0.001312        0.000045     28.6118   \n",
       "69       0.002480      0.000039         0.001334        0.000060     21.6438   \n",
       "70       0.002485      0.000051         0.001301        0.000040     16.3727   \n",
       "71       0.002492      0.000048         0.001301        0.000053     12.3854   \n",
       "\n",
       "                           params  split0_test_score  split1_test_score  \\\n",
       "62  {'alpha': 152.69277544167062}      -50033.355916      -51305.810388   \n",
       "63   {'alpha': 115.5064850041579}      -50034.643087      -51284.742412   \n",
       "64   {'alpha': 87.37642000038414}      -50038.199033      -51268.852006   \n",
       "65   {'alpha': 66.09705742330144}      -50041.349285      -51257.197571   \n",
       "66                {'alpha': 50.0}      -50044.009019      -51249.683924   \n",
       "67  {'alpha': 37.823166377731454}      -50046.465489      -51244.143026   \n",
       "68  {'alpha': 28.611838296751102}      -50048.715188      -51240.351595   \n",
       "69  {'alpha': 21.643806405415308}      -50050.464454      -51237.683288   \n",
       "70  {'alpha': 16.372745814388658}      -50051.829916      -51235.655809   \n",
       "71   {'alpha': 12.38538177995857}      -50052.870149      -51234.127327   \n",
       "\n",
       "    split2_test_score  split3_test_score  ...  split2_train_score  \\\n",
       "62      -49612.718949      -50062.627677  ...       -50958.625019   \n",
       "63      -49606.321425      -50080.301349  ...       -50958.857703   \n",
       "64      -49603.002277      -50095.262546  ...       -50960.866905   \n",
       "65      -49600.712388      -50107.453571  ...       -50963.425125   \n",
       "66      -49599.921213      -50117.316287  ...       -50965.852548   \n",
       "67      -49599.535918      -50124.878040  ...       -50968.076598   \n",
       "68      -49599.258844      -50130.656964  ...       -50970.044915   \n",
       "69      -49599.318953      -50135.062539  ...       -50971.683447   \n",
       "70      -49599.584928      -50138.414854  ...       -50972.974801   \n",
       "71      -49599.790244      -50140.962088  ...       -50974.008952   \n",
       "\n",
       "    split3_train_score  split4_train_score  split5_train_score  \\\n",
       "62       -50956.243680       -50815.151314       -50804.126998   \n",
       "63       -50955.635091       -50815.834353       -50802.876430   \n",
       "64       -50957.115027       -50817.961919       -50803.534867   \n",
       "65       -50959.244516       -50820.236632       -50804.950826   \n",
       "66       -50961.391220       -50822.584652       -50806.585097   \n",
       "67       -50963.320884       -50824.759825       -50808.107084   \n",
       "68       -50964.985098       -50826.686717       -50809.390908   \n",
       "69       -50966.366690       -50828.253067       -50810.498745   \n",
       "70       -50967.444856       -50829.505240       -50811.380163   \n",
       "71       -50968.292081       -50830.490591       -50812.084475   \n",
       "\n",
       "    split6_train_score  split7_train_score  split8_train_score  \\\n",
       "62       -50647.071634       -50825.728118       -50771.137271   \n",
       "63       -50646.049072       -50825.211463       -50772.808323   \n",
       "64       -50647.349267       -50826.850448       -50776.023774   \n",
       "65       -50649.377330       -50829.165443       -50779.381228   \n",
       "66       -50651.362552       -50831.468299       -50782.619507   \n",
       "67       -50653.153213       -50833.587156       -50785.519647   \n",
       "68       -50654.714636       -50835.337256       -50787.918287   \n",
       "69       -50655.925623       -50836.735570       -50789.786894   \n",
       "70       -50656.893314       -50837.861264       -50791.218407   \n",
       "71       -50657.653610       -50838.763256       -50792.350386   \n",
       "\n",
       "    split9_train_score  mean_train_score  std_train_score  \n",
       "62       -50882.019328     -50844.084924       115.779535  \n",
       "63       -50881.656568     -50843.884778       115.897504  \n",
       "64       -50883.173318     -50845.585403       115.992219  \n",
       "65       -50885.181676     -50847.854397       116.051317  \n",
       "66       -50887.224281     -50850.134085       116.071868  \n",
       "67       -50889.023286     -50852.194861       116.070874  \n",
       "68       -50890.508972     -50853.945436       116.070378  \n",
       "69       -50891.741645     -50855.362716       116.081317  \n",
       "70       -50892.736602     -50856.486003       116.091362  \n",
       "71       -50893.530086     -50857.375144       116.105726  \n",
       "\n",
       "[10 rows x 31 columns]"
      ]
     },
     "execution_count": 22,
     "metadata": {},
     "output_type": "execute_result"
    }
   ],
   "source": [
    "cv_results = pd.DataFrame(model_cv.cv_results_)\n",
    "cv_results = cv_results[cv_results['param_alpha']<=200]\n",
    "cv_results.head(10)"
   ]
  },
  {
   "cell_type": "code",
   "execution_count": 23,
   "metadata": {},
   "outputs": [
    {
     "data": {
      "image/png": "[encoded data removed]",
      "text/plain": [
       "<Figure size 432x288 with 1 Axes>"
      ]
     },
     "metadata": {
      "needs_background": "light"
     },
     "output_type": "display_data"
    }
   ],
   "source": [
    "# Plot mean test and train scoes with alpha.\n",
    "cv_results['param_alpha'] = cv_results['param_alpha'].astype('int32')\n",
    "\n",
    "# Plot train and test scores.\n",
    "plt.plot(cv_results['param_alpha'], cv_results['mean_train_score'])\n",
    "plt.plot(cv_results['param_alpha'], cv_results['mean_test_score'])\n",
    "plt.xlabel('alpha')\n",
    "plt.ylabel('Negative Mean Absolute Error')\n",
    "plt.title(\"Negative Mean Absolute Error and alpha\")\n",
    "plt.legend(['train score', 'test score'], loc='upper right')\n",
    "plt.show()"
   ]
  },
  {
   "cell_type": "code",
   "execution_count": 24,
   "metadata": {},
   "outputs": [
    {
     "data": {
      "text/plain": [
       "array([-4.05736587e+04, -4.04743976e+04,  1.22990207e+03, -8.81483196e+00,\n",
       "        1.14230980e+02, -3.55216319e+01,  4.69772298e+01,  4.08796088e+04])"
      ]
     },
     "execution_count": 24,
     "metadata": {},
     "output_type": "execute_result"
    }
   ],
   "source": [
    "alpha = 150\n",
    "ridge = Ridge(alpha=alpha)\n",
    "\n",
    "ridge.fit(X_train, y_train)\n",
    "ridge.coef_"
   ]
  },
  {
   "cell_type": "code",
   "execution_count": 25,
   "metadata": {},
   "outputs": [
    {
     "name": "stdout",
     "output_type": "stream",
     "text": [
      "Ridge(alpha=150)\n",
      "r^2 on test data : 0.637024\n",
      "CPU times: user 11.5 ms, sys: 7.92 ms, total: 19.4 ms\n",
      "Wall time: 6.21 ms\n"
     ]
    }
   ],
   "source": [
    "%%time\n",
    "y_pred_ridge = ridge.fit(X_train, y_train).predict(X_test)\n",
    "r2_score_ridge = r2_score(y_test, y_pred_ridge)\n",
    "print(ridge)\n",
    "print(\"r^2 on test data : %f\" % r2_score_ridge)"
   ]
  },
  {
   "cell_type": "code",
   "execution_count": 26,
   "metadata": {},
   "outputs": [
    {
     "data": {
      "text/plain": [
       "Text(0, 0.5, 'Predicted Y')"
      ]
     },
     "execution_count": 26,
     "metadata": {},
     "output_type": "execute_result"
    },
    {
     "data": {
      "image/png": "[encoded data removed]",
      "text/plain": [
       "<Figure size 432x288 with 1 Axes>"
      ]
     },
     "metadata": {
      "needs_background": "light"
     },
     "output_type": "display_data"
    }
   ],
   "source": [
    "plt.scatter(y_test, y_pred_ridge)\n",
    "plt.xlabel('Y Test')\n",
    "plt.ylabel('Predicted Y')"
   ]
  },
  {
   "cell_type": "markdown",
   "metadata": {},
   "source": [
    "### LASSO REGRESSION"
   ]
  },
  {
   "cell_type": "code",
   "execution_count": 27,
   "metadata": {},
   "outputs": [
    {
     "name": "stdout",
     "output_type": "stream",
     "text": [
      "Fitting 10 folds for each of 28 candidates, totalling 280 fits\n"
     ]
    },
    {
     "name": "stderr",
     "output_type": "stream",
     "text": [
      "[Parallel(n_jobs=1)]: Using backend SequentialBackend with 1 concurrent workers.\n"
     ]
    },
    {
     "name": "stdout",
     "output_type": "stream",
     "text": [
      "CPU times: user 1min 1s, sys: 3min 2s, total: 4min 3s\n",
      "Wall time: 21.2 s\n"
     ]
    },
    {
     "name": "stderr",
     "output_type": "stream",
     "text": [
      "[Parallel(n_jobs=1)]: Done 280 out of 280 | elapsed:   21.1s finished\n"
     ]
    }
   ],
   "source": [
    "%%time\n",
    "# Specify the list of alpha hyperparameters.\n",
    "params = {'alpha': [0.0001, 0.001, 0.01, 0.05, 0.1, 0.2, 0.3, 0.4, 0.5, 0.6, 0.7, 0.8, 0.9, 1.0, 2.0, 3.0, 4.0, 5.0, 6.0, 7.0, 8.0, 9.0, 10.0, 20, 50, 100, 500, 1000 ]}\n",
    "\n",
    "# Lasso Regression\n",
    "lasso = Lasso()\n",
    "\n",
    "# cross validation\n",
    "model_cv = GridSearchCV(estimator = lasso, \n",
    "                        param_grid = params, \n",
    "                        scoring= 'neg_mean_absolute_error', \n",
    "                        cv = folds, \n",
    "                        return_train_score=True,\n",
    "                        verbose = 1)            \n",
    "\n",
    "model_cv.fit(X_train, y_train)\n",
    "\n",
    "# Hide warnings if needed.\n",
    "import warnings\n",
    "warnings.filterwarnings('ignore')"
   ]
  },
  {
   "cell_type": "code",
   "execution_count": 28,
   "metadata": {},
   "outputs": [
    {
     "data": {
      "text/html": [
       "<div>\n",
       "<style scoped>\n",
       "    .dataframe tbody tr th:only-of-type {\n",
       "        vertical-align: middle;\n",
       "    }\n",
       "\n",
       "    .dataframe tbody tr th {\n",
       "        vertical-align: top;\n",
       "    }\n",
       "\n",
       "    .dataframe thead th {\n",
       "        text-align: right;\n",
       "    }\n",
       "</style>\n",
       "<table border=\"1\" class=\"dataframe\">\n",
       "  <thead>\n",
       "    <tr style=\"text-align: right;\">\n",
       "      <th></th>\n",
       "      <th>mean_fit_time</th>\n",
       "      <th>std_fit_time</th>\n",
       "      <th>mean_score_time</th>\n",
       "      <th>std_score_time</th>\n",
       "      <th>param_alpha</th>\n",
       "      <th>params</th>\n",
       "      <th>split0_test_score</th>\n",
       "      <th>split1_test_score</th>\n",
       "      <th>split2_test_score</th>\n",
       "      <th>split3_test_score</th>\n",
       "      <th>...</th>\n",
       "      <th>split2_train_score</th>\n",
       "      <th>split3_train_score</th>\n",
       "      <th>split4_train_score</th>\n",
       "      <th>split5_train_score</th>\n",
       "      <th>split6_train_score</th>\n",
       "      <th>split7_train_score</th>\n",
       "      <th>split8_train_score</th>\n",
       "      <th>split9_train_score</th>\n",
       "      <th>mean_train_score</th>\n",
       "      <th>std_train_score</th>\n",
       "    </tr>\n",
       "  </thead>\n",
       "  <tbody>\n",
       "    <tr>\n",
       "      <th>0</th>\n",
       "      <td>0.083376</td>\n",
       "      <td>0.015359</td>\n",
       "      <td>0.001393</td>\n",
       "      <td>0.000140</td>\n",
       "      <td>0.0001</td>\n",
       "      <td>{'alpha': 0.0001}</td>\n",
       "      <td>-50056.141838</td>\n",
       "      <td>-51229.696649</td>\n",
       "      <td>-49600.450827</td>\n",
       "      <td>-50148.937026</td>\n",
       "      <td>...</td>\n",
       "      <td>-50977.366950</td>\n",
       "      <td>-50971.106618</td>\n",
       "      <td>-50833.730747</td>\n",
       "      <td>-50814.515922</td>\n",
       "      <td>-50660.309328</td>\n",
       "      <td>-50841.852921</td>\n",
       "      <td>-50796.187652</td>\n",
       "      <td>-50896.313364</td>\n",
       "      <td>-50860.365307</td>\n",
       "      <td>116.131296</td>\n",
       "    </tr>\n",
       "    <tr>\n",
       "      <th>1</th>\n",
       "      <td>0.097528</td>\n",
       "      <td>0.017006</td>\n",
       "      <td>0.001352</td>\n",
       "      <td>0.000195</td>\n",
       "      <td>0.001</td>\n",
       "      <td>{'alpha': 0.001}</td>\n",
       "      <td>-50056.141785</td>\n",
       "      <td>-51229.696710</td>\n",
       "      <td>-49600.450820</td>\n",
       "      <td>-50148.936899</td>\n",
       "      <td>...</td>\n",
       "      <td>-50977.366897</td>\n",
       "      <td>-50971.106573</td>\n",
       "      <td>-50833.730696</td>\n",
       "      <td>-50814.515881</td>\n",
       "      <td>-50660.309282</td>\n",
       "      <td>-50841.852869</td>\n",
       "      <td>-50796.187592</td>\n",
       "      <td>-50896.313317</td>\n",
       "      <td>-50860.365258</td>\n",
       "      <td>116.131296</td>\n",
       "    </tr>\n",
       "    <tr>\n",
       "      <th>2</th>\n",
       "      <td>0.097011</td>\n",
       "      <td>0.028043</td>\n",
       "      <td>0.001481</td>\n",
       "      <td>0.000354</td>\n",
       "      <td>0.01</td>\n",
       "      <td>{'alpha': 0.01}</td>\n",
       "      <td>-50056.141264</td>\n",
       "      <td>-51229.697327</td>\n",
       "      <td>-49600.450742</td>\n",
       "      <td>-50148.935631</td>\n",
       "      <td>...</td>\n",
       "      <td>-50977.366365</td>\n",
       "      <td>-50971.106128</td>\n",
       "      <td>-50833.730183</td>\n",
       "      <td>-50814.515466</td>\n",
       "      <td>-50660.308828</td>\n",
       "      <td>-50841.852354</td>\n",
       "      <td>-50796.186990</td>\n",
       "      <td>-50896.312850</td>\n",
       "      <td>-50860.364769</td>\n",
       "      <td>116.131298</td>\n",
       "    </tr>\n",
       "    <tr>\n",
       "      <th>3</th>\n",
       "      <td>0.089142</td>\n",
       "      <td>0.027807</td>\n",
       "      <td>0.001759</td>\n",
       "      <td>0.000999</td>\n",
       "      <td>0.05</td>\n",
       "      <td>{'alpha': 0.05}</td>\n",
       "      <td>-50056.138948</td>\n",
       "      <td>-51229.700068</td>\n",
       "      <td>-49600.450398</td>\n",
       "      <td>-50148.929992</td>\n",
       "      <td>...</td>\n",
       "      <td>-50977.364002</td>\n",
       "      <td>-50971.104147</td>\n",
       "      <td>-50833.727905</td>\n",
       "      <td>-50814.513626</td>\n",
       "      <td>-50660.306811</td>\n",
       "      <td>-50841.850064</td>\n",
       "      <td>-50796.184318</td>\n",
       "      <td>-50896.310774</td>\n",
       "      <td>-50860.362598</td>\n",
       "      <td>116.131304</td>\n",
       "    </tr>\n",
       "    <tr>\n",
       "      <th>4</th>\n",
       "      <td>0.058085</td>\n",
       "      <td>0.016472</td>\n",
       "      <td>0.001478</td>\n",
       "      <td>0.000082</td>\n",
       "      <td>0.1</td>\n",
       "      <td>{'alpha': 0.1}</td>\n",
       "      <td>-50056.136054</td>\n",
       "      <td>-51229.703495</td>\n",
       "      <td>-49600.449968</td>\n",
       "      <td>-50148.922944</td>\n",
       "      <td>...</td>\n",
       "      <td>-50977.361047</td>\n",
       "      <td>-50971.101671</td>\n",
       "      <td>-50833.725057</td>\n",
       "      <td>-50814.511325</td>\n",
       "      <td>-50660.304290</td>\n",
       "      <td>-50841.847202</td>\n",
       "      <td>-50796.180978</td>\n",
       "      <td>-50896.308179</td>\n",
       "      <td>-50860.359884</td>\n",
       "      <td>116.131312</td>\n",
       "    </tr>\n",
       "    <tr>\n",
       "      <th>5</th>\n",
       "      <td>0.082786</td>\n",
       "      <td>0.017977</td>\n",
       "      <td>0.001631</td>\n",
       "      <td>0.000263</td>\n",
       "      <td>0.2</td>\n",
       "      <td>{'alpha': 0.2}</td>\n",
       "      <td>-50056.130264</td>\n",
       "      <td>-51229.710348</td>\n",
       "      <td>-49600.449109</td>\n",
       "      <td>-50148.908847</td>\n",
       "      <td>...</td>\n",
       "      <td>-50977.355137</td>\n",
       "      <td>-50971.096719</td>\n",
       "      <td>-50833.719361</td>\n",
       "      <td>-50814.506723</td>\n",
       "      <td>-50660.299246</td>\n",
       "      <td>-50841.841477</td>\n",
       "      <td>-50796.174297</td>\n",
       "      <td>-50896.302989</td>\n",
       "      <td>-50860.354456</td>\n",
       "      <td>116.131328</td>\n",
       "    </tr>\n",
       "    <tr>\n",
       "      <th>6</th>\n",
       "      <td>0.061468</td>\n",
       "      <td>0.023868</td>\n",
       "      <td>0.001567</td>\n",
       "      <td>0.000338</td>\n",
       "      <td>0.3</td>\n",
       "      <td>{'alpha': 0.3}</td>\n",
       "      <td>-50056.124474</td>\n",
       "      <td>-51229.717202</td>\n",
       "      <td>-49600.448249</td>\n",
       "      <td>-50148.894750</td>\n",
       "      <td>...</td>\n",
       "      <td>-50977.349228</td>\n",
       "      <td>-50971.091767</td>\n",
       "      <td>-50833.713665</td>\n",
       "      <td>-50814.502121</td>\n",
       "      <td>-50660.294203</td>\n",
       "      <td>-50841.835753</td>\n",
       "      <td>-50796.167616</td>\n",
       "      <td>-50896.297799</td>\n",
       "      <td>-50860.349028</td>\n",
       "      <td>116.131343</td>\n",
       "    </tr>\n",
       "    <tr>\n",
       "      <th>7</th>\n",
       "      <td>0.077916</td>\n",
       "      <td>0.017746</td>\n",
       "      <td>0.001611</td>\n",
       "      <td>0.000292</td>\n",
       "      <td>0.4</td>\n",
       "      <td>{'alpha': 0.4}</td>\n",
       "      <td>-50056.118684</td>\n",
       "      <td>-51229.724055</td>\n",
       "      <td>-49600.447390</td>\n",
       "      <td>-50148.880653</td>\n",
       "      <td>...</td>\n",
       "      <td>-50977.343319</td>\n",
       "      <td>-50971.086815</td>\n",
       "      <td>-50833.707969</td>\n",
       "      <td>-50814.497519</td>\n",
       "      <td>-50660.289160</td>\n",
       "      <td>-50841.830028</td>\n",
       "      <td>-50796.160935</td>\n",
       "      <td>-50896.292609</td>\n",
       "      <td>-50860.343601</td>\n",
       "      <td>116.131359</td>\n",
       "    </tr>\n",
       "    <tr>\n",
       "      <th>8</th>\n",
       "      <td>0.077931</td>\n",
       "      <td>0.020394</td>\n",
       "      <td>0.001911</td>\n",
       "      <td>0.000733</td>\n",
       "      <td>0.5</td>\n",
       "      <td>{'alpha': 0.5}</td>\n",
       "      <td>-50056.112894</td>\n",
       "      <td>-51229.730908</td>\n",
       "      <td>-49600.446530</td>\n",
       "      <td>-50148.866557</td>\n",
       "      <td>...</td>\n",
       "      <td>-50977.337409</td>\n",
       "      <td>-50971.081864</td>\n",
       "      <td>-50833.702272</td>\n",
       "      <td>-50814.492917</td>\n",
       "      <td>-50660.284117</td>\n",
       "      <td>-50841.824304</td>\n",
       "      <td>-50796.154254</td>\n",
       "      <td>-50896.287419</td>\n",
       "      <td>-50860.338173</td>\n",
       "      <td>116.131375</td>\n",
       "    </tr>\n",
       "    <tr>\n",
       "      <th>9</th>\n",
       "      <td>0.072457</td>\n",
       "      <td>0.004001</td>\n",
       "      <td>0.001636</td>\n",
       "      <td>0.000382</td>\n",
       "      <td>0.6</td>\n",
       "      <td>{'alpha': 0.6}</td>\n",
       "      <td>-50056.107105</td>\n",
       "      <td>-51229.737761</td>\n",
       "      <td>-49600.445670</td>\n",
       "      <td>-50148.852460</td>\n",
       "      <td>...</td>\n",
       "      <td>-50977.331500</td>\n",
       "      <td>-50971.076912</td>\n",
       "      <td>-50833.696576</td>\n",
       "      <td>-50814.488315</td>\n",
       "      <td>-50660.279074</td>\n",
       "      <td>-50841.818579</td>\n",
       "      <td>-50796.147573</td>\n",
       "      <td>-50896.282228</td>\n",
       "      <td>-50860.332745</td>\n",
       "      <td>116.131391</td>\n",
       "    </tr>\n",
       "  </tbody>\n",
       "</table>\n",
       "<p>10 rows × 31 columns</p>\n",
       "</div>"
      ],
      "text/plain": [
       "   mean_fit_time  std_fit_time  mean_score_time  std_score_time param_alpha  \\\n",
       "0       0.083376      0.015359         0.001393        0.000140      0.0001   \n",
       "1       0.097528      0.017006         0.001352        0.000195       0.001   \n",
       "2       0.097011      0.028043         0.001481        0.000354        0.01   \n",
       "3       0.089142      0.027807         0.001759        0.000999        0.05   \n",
       "4       0.058085      0.016472         0.001478        0.000082         0.1   \n",
       "5       0.082786      0.017977         0.001631        0.000263         0.2   \n",
       "6       0.061468      0.023868         0.001567        0.000338         0.3   \n",
       "7       0.077916      0.017746         0.001611        0.000292         0.4   \n",
       "8       0.077931      0.020394         0.001911        0.000733         0.5   \n",
       "9       0.072457      0.004001         0.001636        0.000382         0.6   \n",
       "\n",
       "              params  split0_test_score  split1_test_score  split2_test_score  \\\n",
       "0  {'alpha': 0.0001}      -50056.141838      -51229.696649      -49600.450827   \n",
       "1   {'alpha': 0.001}      -50056.141785      -51229.696710      -49600.450820   \n",
       "2    {'alpha': 0.01}      -50056.141264      -51229.697327      -49600.450742   \n",
       "3    {'alpha': 0.05}      -50056.138948      -51229.700068      -49600.450398   \n",
       "4     {'alpha': 0.1}      -50056.136054      -51229.703495      -49600.449968   \n",
       "5     {'alpha': 0.2}      -50056.130264      -51229.710348      -49600.449109   \n",
       "6     {'alpha': 0.3}      -50056.124474      -51229.717202      -49600.448249   \n",
       "7     {'alpha': 0.4}      -50056.118684      -51229.724055      -49600.447390   \n",
       "8     {'alpha': 0.5}      -50056.112894      -51229.730908      -49600.446530   \n",
       "9     {'alpha': 0.6}      -50056.107105      -51229.737761      -49600.445670   \n",
       "\n",
       "   split3_test_score  ...  split2_train_score  split3_train_score  \\\n",
       "0      -50148.937026  ...       -50977.366950       -50971.106618   \n",
       "1      -50148.936899  ...       -50977.366897       -50971.106573   \n",
       "2      -50148.935631  ...       -50977.366365       -50971.106128   \n",
       "3      -50148.929992  ...       -50977.364002       -50971.104147   \n",
       "4      -50148.922944  ...       -50977.361047       -50971.101671   \n",
       "5      -50148.908847  ...       -50977.355137       -50971.096719   \n",
       "6      -50148.894750  ...       -50977.349228       -50971.091767   \n",
       "7      -50148.880653  ...       -50977.343319       -50971.086815   \n",
       "8      -50148.866557  ...       -50977.337409       -50971.081864   \n",
       "9      -50148.852460  ...       -50977.331500       -50971.076912   \n",
       "\n",
       "   split4_train_score  split5_train_score  split6_train_score  \\\n",
       "0       -50833.730747       -50814.515922       -50660.309328   \n",
       "1       -50833.730696       -50814.515881       -50660.309282   \n",
       "2       -50833.730183       -50814.515466       -50660.308828   \n",
       "3       -50833.727905       -50814.513626       -50660.306811   \n",
       "4       -50833.725057       -50814.511325       -50660.304290   \n",
       "5       -50833.719361       -50814.506723       -50660.299246   \n",
       "6       -50833.713665       -50814.502121       -50660.294203   \n",
       "7       -50833.707969       -50814.497519       -50660.289160   \n",
       "8       -50833.702272       -50814.492917       -50660.284117   \n",
       "9       -50833.696576       -50814.488315       -50660.279074   \n",
       "\n",
       "   split7_train_score  split8_train_score  split9_train_score  \\\n",
       "0       -50841.852921       -50796.187652       -50896.313364   \n",
       "1       -50841.852869       -50796.187592       -50896.313317   \n",
       "2       -50841.852354       -50796.186990       -50896.312850   \n",
       "3       -50841.850064       -50796.184318       -50896.310774   \n",
       "4       -50841.847202       -50796.180978       -50896.308179   \n",
       "5       -50841.841477       -50796.174297       -50896.302989   \n",
       "6       -50841.835753       -50796.167616       -50896.297799   \n",
       "7       -50841.830028       -50796.160935       -50896.292609   \n",
       "8       -50841.824304       -50796.154254       -50896.287419   \n",
       "9       -50841.818579       -50796.147573       -50896.282228   \n",
       "\n",
       "   mean_train_score  std_train_score  \n",
       "0     -50860.365307       116.131296  \n",
       "1     -50860.365258       116.131296  \n",
       "2     -50860.364769       116.131298  \n",
       "3     -50860.362598       116.131304  \n",
       "4     -50860.359884       116.131312  \n",
       "5     -50860.354456       116.131328  \n",
       "6     -50860.349028       116.131343  \n",
       "7     -50860.343601       116.131359  \n",
       "8     -50860.338173       116.131375  \n",
       "9     -50860.332745       116.131391  \n",
       "\n",
       "[10 rows x 31 columns]"
      ]
     },
     "execution_count": 28,
     "metadata": {},
     "output_type": "execute_result"
    }
   ],
   "source": [
    "cv_results = pd.DataFrame(model_cv.cv_results_)\n",
    "cv_results.head(10)"
   ]
  },
  {
   "cell_type": "code",
   "execution_count": 29,
   "metadata": {},
   "outputs": [
    {
     "data": {
      "image/png": "[encoded data removed]",
      "text/plain": [
       "<Figure size 432x288 with 1 Axes>"
      ]
     },
     "metadata": {
      "needs_background": "light"
     },
     "output_type": "display_data"
    }
   ],
   "source": [
    "# Plot mean test and train scoes with alpha.\n",
    "cv_results['param_alpha'] = cv_results['param_alpha'].astype('float32')\n",
    "\n",
    "# # Plot train and test scores.\n",
    "plt.plot(cv_results['param_alpha'], cv_results['mean_train_score'])\n",
    "plt.plot(cv_results['param_alpha'], cv_results['mean_test_score'])\n",
    "plt.xlabel('alpha')\n",
    "plt.ylabel('Negative Mean Absolute Error')\n",
    "\n",
    "plt.title(\"Negative Mean Absolute Error and alpha\")\n",
    "plt.legend(['train score', 'test score'], loc='upper right')\n",
    "plt.show()"
   ]
  },
  {
   "cell_type": "code",
   "execution_count": 30,
   "metadata": {},
   "outputs": [
    {
     "data": {
      "text/plain": [
       "array([-4.09535189e+04, -4.08270687e+04,  1.22044901e+03, -8.78314505e+00,\n",
       "        1.14653745e+02, -3.55050957e+01,  4.61899046e+01,  4.08558513e+04])"
      ]
     },
     "execution_count": 30,
     "metadata": {},
     "output_type": "execute_result"
    }
   ],
   "source": [
    "alpha =500\n",
    "lasso = Lasso(alpha=alpha)\n",
    "        \n",
    "lasso.fit(X_train, y_train)\n",
    "lasso.coef_"
   ]
  },
  {
   "cell_type": "code",
   "execution_count": 31,
   "metadata": {},
   "outputs": [
    {
     "name": "stdout",
     "output_type": "stream",
     "text": [
      "Lasso(alpha=500)\n",
      "r^2 on test data : 0.637100\n"
     ]
    }
   ],
   "source": [
    "y_pred_lasso = lasso.fit(X_train, y_train).predict(X_test)\n",
    "r2_score_lasso = r2_score(y_test, y_pred_lasso)\n",
    "print(lasso)\n",
    "print(\"r^2 on test data : %f\" % r2_score_lasso)"
   ]
  },
  {
   "cell_type": "code",
   "execution_count": 32,
   "metadata": {},
   "outputs": [
    {
     "data": {
      "image/png": "[encoded data removed]",
      "text/plain": [
       "<Figure size 1152x576 with 1 Axes>"
      ]
     },
     "metadata": {
      "needs_background": "light"
     },
     "output_type": "display_data"
    }
   ],
   "source": [
    "plt.figure(figsize=(16,8))\n",
    "m, s, _ = plt.stem(np.where(ridge.coef_)[0], ridge.coef_[ridge.coef_ != 0],\n",
    "                   markerfmt='x', label='Ridge coefficients',\n",
    "                   use_line_collection=True)\n",
    "plt.setp([m, s], color=\"#2ca02c\")\n",
    "m, s, _ = plt.stem(np.where(lasso.coef_)[0], lasso.coef_[lasso.coef_ != 0],\n",
    "                   markerfmt='x', label='Lasso coefficients',\n",
    "                   use_line_collection=True)\n",
    "plt.legend(loc='best')\n",
    "plt.title(\"Lasso $R^2$: %.3f, Ridge $R^2$: %.3f\"\n",
    "          % (r2_score_lasso, r2_score_ridge))\n",
    "plt.show()"
   ]
  },
  {
   "cell_type": "code",
   "execution_count": 33,
   "metadata": {},
   "outputs": [
    {
     "data": {
      "text/plain": [
       "Text(0, 0.5, 'Predicted Y')"
      ]
     },
     "execution_count": 33,
     "metadata": {},
     "output_type": "execute_result"
    },
    {
     "data": {
      "image/png": "[encoded data removed]",
      "text/plain": [
       "<Figure size 432x288 with 1 Axes>"
      ]
     },
     "metadata": {
      "needs_background": "light"
     },
     "output_type": "display_data"
    }
   ],
   "source": [
    "plt.scatter(y_test, y_pred_lasso)\n",
    "plt.xlabel('Y Test')\n",
    "plt.ylabel('Predicted Y')"
   ]
  },
  {
   "cell_type": "code",
   "execution_count": null,
   "metadata": {},
   "outputs": [],
   "source": []
  }
 ],
 "metadata": {
  "kernelspec": {
   "display_name": "Python 3",
   "language": "python",
   "name": "python3"
  },
  "language_info": {
   "codemirror_mode": {
    "name": "ipython",
    "version": 3
   },
   "file_extension": ".py",
   "mimetype": "text/x-python",
   "name": "python",
   "nbconvert_exporter": "python",
   "pygments_lexer": "ipython3",
   "version": "3.8.6"
  }
 },
 "nbformat": 4,
 "nbformat_minor": 4
}
